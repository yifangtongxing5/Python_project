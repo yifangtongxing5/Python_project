{
 "cells": [
  {
   "cell_type": "markdown",
   "metadata": {},
   "source": [
    "# 双色球历史数据统计预测"
   ]
  },
  {
   "cell_type": "markdown",
   "metadata": {},
   "source": [
    "---"
   ]
  },
  {
   "cell_type": "markdown",
   "metadata": {},
   "source": [
    "- 报告题目：双色球历史数据统计预测\n",
    "- 学员昵称：hcccom\n",
    "- 课程期数：第一期"
   ]
  },
  {
   "cell_type": "markdown",
   "metadata": {},
   "source": [
    "© 本文著作权归作者所有，并授权实验楼独家使用，未经实验楼许可，不得转载使用。"
   ]
  },
  {
   "cell_type": "markdown",
   "metadata": {},
   "source": [
    "---"
   ]
  },
  {
   "cell_type": "markdown",
   "metadata": {},
   "source": [
    "### 获取数据"
   ]
  },
  {
   "cell_type": "code",
   "execution_count": null,
   "metadata": {},
   "outputs": [],
   "source": [
    "import random\n",
    "import numpy as np\n",
    "import requests\n",
    "import csv\n",
    "from bs4 import BeautifulSoup\n",
    "headers = {\n",
    "    'User-Agent': 'Mozilla/5.0 (Macintosh; Intel Mac OS X 10_12_3) AppleWebKit/537.36 (KHTML, like Gecko) Chrome/56.0.2924.87 Safari/537.36'}\n",
    "res = requests.get(\n",
    "    'https://datachart.500.com/ssq/history/newinc/history.php?start=03001&end=18147', headers=headers)  # 从03年第一期开始\n",
    "res.encoding = 'uft-8'\n",
    "soup = BeautifulSoup(res.text, 'lxml')\n",
    "data = soup.find_all(attrs={'class': 't_tr1'})\n",
    "csvFile = open(\"./ssq004.csv\", 'wt', newline='', encoding='utf-8')"
   ]
  },
  {
   "cell_type": "code",
   "execution_count": null,
   "metadata": {},
   "outputs": [],
   "source": [
    "def gens(x):  # 模拟\n",
    "    random.seed(x)\n",
    "    a = np.arange(1, 34, 1).tolist()\n",
    "    red = sorted(random.sample(a, 6))\n",
    "    b = np.arange(1, 17, 1).tolist()\n",
    "    blue = random.sample(b, 1)\n",
    "    red.extend(blue)\n",
    "    return red"
   ]
  },
  {
   "cell_type": "code",
   "execution_count": 8,
   "metadata": {},
   "outputs": [],
   "source": [
    "with open(r\"ssq004.csv\", 'a', newline='') as f:\n",
    "    writer = csv.writer(f)\n",
    "    writer.writerow([\"period\", \"real\", \"date\", \"vis\", 'r1',\n",
    "                     'r2', 'r3', 'r4', 'r5', 'r6', 'b1'])  # 先写入列名\n",
    "    for i in range(0, len(data)):\n",
    "        period = data[i].find_all('td')[0].text\n",
    "        real = [int(data[i].find_all('td')[1].text), int(data[i].find_all('td')[2].text), int(data[i].find_all('td')[3].text), int(data[i].find_all(\n",
    "            'td')[4].text), int(data[i].find_all('td')[5].text), int(data[i].find_all('td')[6].text), int(data[i].find_all('td')[7].text)]\n",
    "        date = data[i].find_all('td')[15].text\n",
    "        vis = gens(date)\n",
    "        r1 = int(data[i].find_all('td')[1].text)\n",
    "        r2 = int(data[i].find_all('td')[2].text)\n",
    "        r3 = int(data[i].find_all('td')[3].text)\n",
    "        r4 = int(data[i].find_all('td')[4].text)\n",
    "        r5 = int(data[i].find_all('td')[5].text)\n",
    "        r6 = int(data[i].find_all('td')[6].text)\n",
    "        b1 = int(data[i].find_all('td')[7].text)\n",
    "\n",
    "        writer.writerows(\n",
    "            [[period, real, date, vis, r1, r2, r3, r4, r5, r6, b1]])\n",
    "csvFile.close()"
   ]
  },
  {
   "cell_type": "markdown",
   "metadata": {},
   "source": [
    "### 数据处理"
   ]
  },
  {
   "cell_type": "code",
   "execution_count": 9,
   "metadata": {},
   "outputs": [
    {
     "data": {
      "text/plain": [
       "[3, 6, 8, 23, 25, 33, 4]"
      ]
     },
     "execution_count": 9,
     "metadata": {},
     "output_type": "execute_result"
    }
   ],
   "source": [
    "import pandas as pd\n",
    "import matplotlib.pyplot as plt\n",
    "df = pd.read_csv('ssq004.csv', encoding='gbk')\n",
    "df.set_index(\"date\", inplace=True)\n",
    "df.index = pd.DatetimeIndex(df.index)\n",
    "df.sort_index(ascending=True, inplace=True)\n",
    "\n",
    "\n",
    "def get_real(i):\n",
    "    a = df.real[i]\n",
    "    lista = a.strip('[]').split(',')\n",
    "    map(int, lista)\n",
    "    list_real = [int(x) for x in lista]\n",
    "    return list_real\n",
    "\n",
    "\n",
    "def get_vis(i):  # 产生和时间相关的随机双色球\n",
    "    b = df.vis[i]\n",
    "    listb = b.strip('[]').split(',')\n",
    "    map(int, listb)\n",
    "    list_vis = [int(x) for x in listb]\n",
    "    return list_vis\n",
    "\n",
    "\n",
    "get_vis(1)"
   ]
  },
  {
   "cell_type": "code",
   "execution_count": null,
   "metadata": {},
   "outputs": [],
   "source": [
    "# 计算每个球出现的频率"
   ]
  },
  {
   "cell_type": "code",
   "execution_count": 10,
   "metadata": {
    "scrolled": true
   },
   "outputs": [],
   "source": [
    "df1 = df.drop(columns=['period', 'real', 'vis'])\n",
    "df2 = df1.drop(columns=['b1'])\n",
    "df3 = df1[['b1']]\n",
    "dup = df1[df1.duplicated()].count()\n",
    "rd1 = df2.stack().value_counts()\n",
    "bd1 = df3['b1'].value_counts()"
   ]
  },
  {
   "cell_type": "code",
   "execution_count": 11,
   "metadata": {
    "scrolled": false
   },
   "outputs": [
    {
     "data": {
      "image/png": "[encoded data removed]",
      "text/plain": [
       "<Figure size 432x288 with 1 Axes>"
      ]
     },
     "metadata": {
      "needs_background": "light"
     },
     "output_type": "display_data"
    },
    {
     "data": {
      "image/png": "[encoded data removed]",
      "text/plain": [
       "<Figure size 432x288 with 1 Axes>"
      ]
     },
     "metadata": {
      "needs_background": "light"
     },
     "output_type": "display_data"
    }
   ],
   "source": [
    "import matplotlib.pyplot as plt\n",
    "from pylab import *\n",
    "plt.figure(111)\n",
    "rd1.plot(kind='bar', align='center')\n",
    "plt.xlabel(\"red\")\n",
    "plt.ylabel(\"Times\")\n",
    "plt.show()\n",
    "plt.figure(112)\n",
    "bd1.plot(kind='bar')\n",
    "plt.xlabel(\"blue\")\n",
    "plt.ylabel(\"Times\")\n",
    "plt.show()"
   ]
  },
  {
   "cell_type": "markdown",
   "metadata": {},
   "source": [
    "### 取一组\n",
    " "
   ]
  },
  {
   "cell_type": "code",
   "execution_count": 14,
   "metadata": {},
   "outputs": [
    {
     "data": {
      "text/html": [
       "<div>\n",
       "<style scoped>\n",
       "    .dataframe tbody tr th:only-of-type {\n",
       "        vertical-align: middle;\n",
       "    }\n",
       "\n",
       "    .dataframe tbody tr th {\n",
       "        vertical-align: top;\n",
       "    }\n",
       "\n",
       "    .dataframe thead th {\n",
       "        text-align: right;\n",
       "    }\n",
       "</style>\n",
       "<table border=\"1\" class=\"dataframe\">\n",
       "  <thead>\n",
       "    <tr style=\"text-align: right;\">\n",
       "      <th></th>\n",
       "      <th>period</th>\n",
       "      <th>real</th>\n",
       "      <th>vis</th>\n",
       "      <th>r1</th>\n",
       "      <th>r2</th>\n",
       "      <th>r3</th>\n",
       "      <th>r4</th>\n",
       "      <th>r5</th>\n",
       "      <th>r6</th>\n",
       "      <th>b1</th>\n",
       "    </tr>\n",
       "    <tr>\n",
       "      <th>date</th>\n",
       "      <th></th>\n",
       "      <th></th>\n",
       "      <th></th>\n",
       "      <th></th>\n",
       "      <th></th>\n",
       "      <th></th>\n",
       "      <th></th>\n",
       "      <th></th>\n",
       "      <th></th>\n",
       "      <th></th>\n",
       "    </tr>\n",
       "  </thead>\n",
       "  <tbody>\n",
       "    <tr>\n",
       "      <th>2018-12-04</th>\n",
       "      <td>18142</td>\n",
       "      <td>[5, 8, 10, 11, 27, 28, 11]</td>\n",
       "      <td>[11, 13, 16, 24, 29, 31, 8]</td>\n",
       "      <td>5</td>\n",
       "      <td>8</td>\n",
       "      <td>10</td>\n",
       "      <td>11</td>\n",
       "      <td>27</td>\n",
       "      <td>28</td>\n",
       "      <td>11</td>\n",
       "    </tr>\n",
       "    <tr>\n",
       "      <th>2018-12-06</th>\n",
       "      <td>18143</td>\n",
       "      <td>[4, 6, 15, 28, 32, 33, 14]</td>\n",
       "      <td>[10, 14, 15, 16, 24, 33, 14]</td>\n",
       "      <td>4</td>\n",
       "      <td>6</td>\n",
       "      <td>15</td>\n",
       "      <td>28</td>\n",
       "      <td>32</td>\n",
       "      <td>33</td>\n",
       "      <td>14</td>\n",
       "    </tr>\n",
       "    <tr>\n",
       "      <th>2018-12-09</th>\n",
       "      <td>18144</td>\n",
       "      <td>[8, 13, 17, 18, 20, 27, 13]</td>\n",
       "      <td>[3, 7, 13, 17, 19, 30, 13]</td>\n",
       "      <td>8</td>\n",
       "      <td>13</td>\n",
       "      <td>17</td>\n",
       "      <td>18</td>\n",
       "      <td>20</td>\n",
       "      <td>27</td>\n",
       "      <td>13</td>\n",
       "    </tr>\n",
       "    <tr>\n",
       "      <th>2018-12-11</th>\n",
       "      <td>18145</td>\n",
       "      <td>[3, 9, 13, 22, 23, 25, 6]</td>\n",
       "      <td>[3, 6, 10, 12, 19, 25, 12]</td>\n",
       "      <td>3</td>\n",
       "      <td>9</td>\n",
       "      <td>13</td>\n",
       "      <td>22</td>\n",
       "      <td>23</td>\n",
       "      <td>25</td>\n",
       "      <td>6</td>\n",
       "    </tr>\n",
       "    <tr>\n",
       "      <th>2018-12-13</th>\n",
       "      <td>18146</td>\n",
       "      <td>[2, 10, 11, 17, 18, 29, 16]</td>\n",
       "      <td>[6, 10, 21, 24, 26, 32, 3]</td>\n",
       "      <td>2</td>\n",
       "      <td>10</td>\n",
       "      <td>11</td>\n",
       "      <td>17</td>\n",
       "      <td>18</td>\n",
       "      <td>29</td>\n",
       "      <td>16</td>\n",
       "    </tr>\n",
       "  </tbody>\n",
       "</table>\n",
       "</div>"
      ],
      "text/plain": [
       "            period                         real                           vis  \\\n",
       "date                                                                            \n",
       "2018-12-04   18142   [5, 8, 10, 11, 27, 28, 11]   [11, 13, 16, 24, 29, 31, 8]   \n",
       "2018-12-06   18143   [4, 6, 15, 28, 32, 33, 14]  [10, 14, 15, 16, 24, 33, 14]   \n",
       "2018-12-09   18144  [8, 13, 17, 18, 20, 27, 13]    [3, 7, 13, 17, 19, 30, 13]   \n",
       "2018-12-11   18145    [3, 9, 13, 22, 23, 25, 6]    [3, 6, 10, 12, 19, 25, 12]   \n",
       "2018-12-13   18146  [2, 10, 11, 17, 18, 29, 16]    [6, 10, 21, 24, 26, 32, 3]   \n",
       "\n",
       "            r1  r2  r3  r4  r5  r6  b1  \n",
       "date                                    \n",
       "2018-12-04   5   8  10  11  27  28  11  \n",
       "2018-12-06   4   6  15  28  32  33  14  \n",
       "2018-12-09   8  13  17  18  20  27  13  \n",
       "2018-12-11   3   9  13  22  23  25   6  \n",
       "2018-12-13   2  10  11  17  18  29  16  "
      ]
     },
     "execution_count": 14,
     "metadata": {},
     "output_type": "execute_result"
    }
   ],
   "source": [
    "df.tail(5)"
   ]
  },
  {
   "cell_type": "code",
   "execution_count": 15,
   "metadata": {},
   "outputs": [
    {
     "data": {
      "text/plain": [
       "[<matplotlib.lines.Line2D at 0x7c12048>]"
      ]
     },
     "execution_count": 15,
     "metadata": {},
     "output_type": "execute_result"
    },
    {
     "data": {
      "image/png": "[encoded data removed]",
      "text/plain": [
       "<Figure size 1080x360 with 1 Axes>"
      ]
     },
     "metadata": {
      "needs_background": "light"
     },
     "output_type": "display_data"
    }
   ],
   "source": [
    "x = [1, 2, 3, 4, 5, 6, 7]\n",
    "y1 = get_real(-1)\n",
    "y2 = get_vis(-1)\n",
    "fig, ax = plt.subplots(figsize=(15, 5))\n",
    "ax.plot(x, y1, 'ch-', markersize=10)\n",
    "ax.plot(x, y2, 'ys-', markersize=10)"
   ]
  },
  {
   "cell_type": "code",
   "execution_count": 167,
   "metadata": {},
   "outputs": [
    {
     "data": {
      "image/png": "[encoded data removed]",
      "text/plain": [
       "<Figure size 432x288 with 1 Axes>"
      ]
     },
     "metadata": {
      "needs_background": "light"
     },
     "output_type": "display_data"
    },
    {
     "data": {
      "text/plain": [
       "array([0.95333787, 3.40088556])"
      ]
     },
     "execution_count": 167,
     "metadata": {},
     "output_type": "execute_result"
    }
   ],
   "source": [
    "x_data = np.array(y1)\n",
    "\n",
    "y_data = np.array(y2)\n",
    "\n",
    "poly = np.polyfit(x_data, y_data, deg=1)\n",
    "\n",
    "plt.plot(x_data, y_data, 'o')\n",
    "\n",
    "plt.plot(x_data, np.polyval(poly, x_data))\n",
    "\n",
    "plt.show()\n",
    "poly"
   ]
  },
  {
   "cell_type": "code",
   "execution_count": 7,
   "metadata": {},
   "outputs": [
    {
     "data": {
      "image/png": "[encoded data removed]",
      "text/plain": [
       "<Figure size 432x288 with 1 Axes>"
      ]
     },
     "metadata": {
      "needs_background": "light"
     },
     "output_type": "display_data"
    },
    {
     "data": {
      "text/plain": [
       "array([-2.44332198e-03,  1.76012475e-01, -4.58949704e+00,  5.31642494e+01,\n",
       "       -2.57338653e+02,  3.41987935e+02])"
      ]
     },
     "execution_count": 7,
     "metadata": {},
     "output_type": "execute_result"
    }
   ],
   "source": [
    "x_data = np.array(y1)\n",
    "\n",
    "y_data = np.array(y2)\n",
    "\n",
    "poly = np.polyfit(x_data, y_data, deg=5)\n",
    "\n",
    "plt.plot(x_data, y_data, 'o')\n",
    "\n",
    "plt.plot(x_data, np.polyval(poly, x_data))\n",
    "\n",
    "plt.show()\n",
    "poly"
   ]
  },
  {
   "cell_type": "markdown",
   "metadata": {},
   "source": [
    "各种分析过后，仍无法做出预测。。。。。"
   ]
  },
  {
   "cell_type": "markdown",
   "metadata": {},
   "source": [
    "结论：双色球是无法预测的"
   ]
  },
  {
   "cell_type": "markdown",
   "metadata": {},
   "source": [
    "---"
   ]
  },
  {
   "cell_type": "markdown",
   "metadata": {},
   "source": [
    "#### 评阅意见反馈"
   ]
  },
  {
   "cell_type": "markdown",
   "metadata": {},
   "source": [
    "<div style=\"color: #666; font-size: 10px;\">\n",
    "hcccom 提交的《双色球历史数据统计预测》项目挑战报告初步达到课程挑战要求，但仍然有很多地方值得完善。\n",
    "<br><br>\n",
    "数据采集部分内容不错，能采集完整的双色球投注数据。但缺乏必要的解释和代码注释。数据分析和处理阶段仅对各号球的出现频次做了统计，选择的柱形图虽然合理但内容较为单薄。这里，建议可以对连续 2 球或者多球的出现频次统计分析。或者分析不同位置各号球的出现频次，或许从统计学角度更有意义。\n",
    "<br><br>\n",
    "「取一组」小节之后没有看明白分析的用意，或许是想预测各号球如何出现？不过这样肯定无法完成的。回归分析显然不能用于这里的预测过程。\n",
    "<br><br>\n",
    "总之，该挑战报告有 2 点值得改善的地方：\n",
    "\n",
    "- 补充陈述内容，让阅读者知道每一步的大致操作用意。整个分析报告几乎没有解释性语句，非常不赞同这样做。数据分析的过程很重要，实际上阐述结论和讲好一个故事更加重要。\n",
    "\n",
    "- 分析思路没有理清，显然双色球出现是随机事件，这是无法通过回归分析完成的。所以，挑战的选题从一开始就不太理想。实际上，就算是真实的数据分析任务，也不建议去做彩票预测，因为就算从概率上得到了一些高频次组合方式，但没有明确的指导意义。\n",
    "\n",
    "代码方面，注意不用写重复冗余代码（类似 plt.show() 在同单元格多次出现）。后期在书写代码时注意按照 PEP8 格式化即可。VS Code 等 IDE 带有相关格式化插件，Jupyter Notebook 也可以通过安装 jupyter_contrib_nbextensions 拓展开启相关插件自动完成代码格式化。\n",
    "<br><br>\n",
    "总之，通过该报告可以判定学员初步达到我们课程预设的培养目标，但仍需要继续学习和加深对数据分析各环节的思考。希望 hcccom 后续再通过书籍等拓展更多相关的数据分析和挖掘知识，并结合自己的兴趣及专业特长在数据分析的道路上越走越好。\n",
    "</div>\n",
    "\n",
    "<br><br><br>\n",
    "<div style=\"color: #666; font-size: 10px; text-align: right;\">楼+ 数据分析和挖掘课程组</div>\n",
    "<div style=\"color: #666; font-size: 10px; text-align: right;\">2018 年 12 月 17 日</div>"
   ]
  },
  {
   "cell_type": "markdown",
   "metadata": {},
   "source": [
    "---"
   ]
  }
 ],
 "metadata": {
  "kernelspec": {
   "display_name": "Python 3",
   "language": "python",
   "name": "python3"
  },
  "language_info": {
   "codemirror_mode": {
    "name": "ipython",
    "version": 3
   },
   "file_extension": ".py",
   "mimetype": "text/x-python",
   "name": "python",
   "nbconvert_exporter": "python",
   "pygments_lexer": "ipython3",
   "version": "3.7.1"
  }
 },
 "nbformat": 4,
 "nbformat_minor": 2
}
